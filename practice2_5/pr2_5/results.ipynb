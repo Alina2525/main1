{
 "cells": [
  {
   "cell_type": "code",
   "execution_count": 18,
   "metadata": {},
   "outputs": [],
   "source": [
    "from sqlite3 import Cursor\n",
    "import pandas as pd\n",
    "Personnel = pd.read_excel('Communication_Personnel_Units.xlsx', sheet_name='Personnel')\n",
    "for _, row in Personnel.iterrows():\n",
    "       Cursor.execute(\"INSERT INTO Personnel (ID, Name, Role, Communication_Unit_ID, Data_Assigned) VALUES (%s, %s, %s, %s)\", \n",
    "                      (row['ID'], row['Name'], row['Communication_Unit_ID'], row['Data_Assigned']))"
   ]
  },
  {
   "cell_type": "code",
   "execution_count": 10,
   "metadata": {},
   "outputs": [],
   "source": [
    "import pandas as pd\n",
    "data = pd.read_excel('Communication_Personnel_Units.xlsx', sheet_name='Units')"
   ]
  },
  {
   "cell_type": "code",
   "execution_count": 14,
   "metadata": {},
   "outputs": [],
   "source": [
    "import psycopg2\n",
    "\n",
    "conn = psycopg2.connect(\n",
    "    host=\"127.0.0.1\", \n",
    "    user=\"postgres\",\n",
    "    password=\"admin\",\n",
    "    database=\"companydb\",\n",
    ")\n",
    "\n",
    "# Створіть курсор\n",
    "cursor = conn.cursor()\n",
    "\n",
    " # Виконуйте ваші запити\n",
    "for _, row in data.iterrows():\n",
    "    cursor.execute(\n",
    "        \"INSERT INTO Units (Units_ID, Units_Name, Base_Location, Equipment_Available) VALUES (%s, %s, %s, %s)\",\n",
    "        (row['Units_ID'], row['Units_Name'], row['Base_Location'], row['Equipment_Available'])\n",
    "    )\n",
    "\n",
    "# Підтвердьте зміни\n",
    "conn.commit()\n",
    "\n",
    "# Закрийте курсор та з'єднання\n",
    "cursor.close()\n",
    "conn.close()\n"
   ]
  }
 ],
 "metadata": {
  "kernelspec": {
   "display_name": "Python 3",
   "language": "python",
   "name": "python3"
  },
  "language_info": {
   "codemirror_mode": {
    "name": "ipython",
    "version": 3
   },
   "file_extension": ".py",
   "mimetype": "text/x-python",
   "name": "python",
   "nbconvert_exporter": "python",
   "pygments_lexer": "ipython3",
   "version": "3.11.9"
  }
 },
 "nbformat": 4,
 "nbformat_minor": 2
}
