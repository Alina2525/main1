{
 "cells": [
  {
   "cell_type": "code",
   "execution_count": 1,
   "metadata": {},
   "outputs": [
    {
     "name": "stdout",
     "output_type": "stream",
     "text": [
      "[]\n",
      "[]\n"
     ]
    }
   ],
   "source": [
    "import psycopg2\n",
    "\n",
    "# Підключення до бази даних\n",
    "conn = psycopg2.connect(\n",
    "    host=\"127.0.0.1\", \n",
    "    user=\"postgres\",\n",
    "    password=\"admin\",\n",
    "    database=\"companydb\",\n",
    ")\n",
    "\n",
    "# Створіть курсор\n",
    "cursor = conn.cursor()\n",
    "\n",
    "# 1. Отримати всі дані з таблиці Personnel\n",
    "cursor.execute(\"SELECT * FROM Personnel;\")\n",
    "all_data = cursor.fetchall()\n",
    "print(all_data)\n",
    "\n",
    "# 2. Отримати імена та посади співробітників\n",
    "cursor.execute(\"SELECT Name, Role FROM Personnel;\")\n",
    "names_positions = cursor.fetchall()\n",
    "print(names_positions)\n",
    "\n",
    "# Закриття з'єднання\n",
    "cursor.close()\n",
    "conn.close()"
   ]
  }
 ],
 "metadata": {
  "kernelspec": {
   "display_name": "Python 3",
   "language": "python",
   "name": "python3"
  },
  "language_info": {
   "codemirror_mode": {
    "name": "ipython",
    "version": 3
   },
   "file_extension": ".py",
   "mimetype": "text/x-python",
   "name": "python",
   "nbconvert_exporter": "python",
   "pygments_lexer": "ipython3",
   "version": "3.11.9"
  }
 },
 "nbformat": 4,
 "nbformat_minor": 2
}
