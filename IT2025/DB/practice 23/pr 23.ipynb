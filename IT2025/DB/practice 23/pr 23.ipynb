{
 "cells": [
  {
   "cell_type": "code",
   "execution_count": null,
   "metadata": {},
   "outputs": [],
   "source": [
    "@startuml\n",
    "entity \"Курси\" {\n",
    "  + id: int\n",
    "  + назва: string\n",
    "  + опис: string\n",
    "  + тривалість_години: int\n",
    "}\n",
    "\n",
    "entity \"Слухачі\" {\n",
    "  + id: int\n",
    "  + ім'я: string\n",
    "  + прізвище: string\n",
    "  + email: string\n",
    "}\n",
    "\n",
    "entity \"Інструктори\" {\n",
    "  + id: int\n",
    "  + ім'я: string\n",
    "  + прізвище: string\n",
    "  + спеціалізація: string\n",
    "}\n",
    "\n",
    "' Зв'язки між сутностями\n",
    "\"Курси\" ||--o{ \"Слухачі\" : \"записані\"\n",
    "\"Курси\" ||--o{ \"Інструктори\" : \"викладають\"\n",
    "@enduml"
   ]
  }
 ],
 "metadata": {
  "kernelspec": {
   "display_name": "Python 3",
   "language": "python",
   "name": "python3"
  },
  "language_info": {
   "name": "python",
   "version": "3.11.9"
  }
 },
 "nbformat": 4,
 "nbformat_minor": 2
}
