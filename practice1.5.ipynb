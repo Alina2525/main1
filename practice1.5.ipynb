{
 "cells": [
  {
   "cell_type": "markdown",
   "metadata": {},
   "source": [
    "# 5206 # \n",
    "## Severyn ##\n",
    "emails:\n",
    "1. asv@ukr.net\n",
    "2. dfv@google.com\n"
   ]
  },
  {
   "cell_type": "code",
   "execution_count": 1,
   "metadata": {},
   "outputs": [
    {
     "name": "stdout",
     "output_type": "stream",
     "text": [
      "Привіт, це моя best робота з Jupyter Notebook у VS Code!\n"
     ]
    }
   ],
   "source": [
    "print(\"Привіт, це моя best робота з Jupyter Notebook у VS Code!\")"
   ]
  },
  {
   "cell_type": "code",
   "execution_count": null,
   "metadata": {},
   "outputs": [
    {
     "name": "stdout",
     "output_type": "stream",
     "text": [
      "Результат множення 6 на 2: 12\n"
     ]
    }
   ],
   "source": [
    "user_input = input(\"Введіть ціле число: \")\n",
    "number = int(user_input)  # перетворюємо з рядка у ціле\n",
    "result = number * 2\n",
    "print(f\"Результат множення {number} на 2: {result}\")"
   ]
  },
  {
   "cell_type": "code",
   "execution_count": 5,
   "metadata": {},
   "outputs": [
    {
     "name": "stdout",
     "output_type": "stream",
     "text": [
      "Вітаємо! Ви повнолітній.\n"
     ]
    }
   ],
   "source": [
    "age = int(input(\"Введіть ваш вік: \"))\n",
    "if age < 18:\n",
    "    print(\"Ви ще неповнолітній.\")\n",
    "else:\n",
    "    print(\"Вітаємо! Ви повнолітній.\")"
   ]
  },
  {
   "cell_type": "code",
   "execution_count": 8,
   "metadata": {},
   "outputs": [
    {
     "name": "stdout",
     "output_type": "stream",
     "text": [
      "1\n",
      "2\n",
      "3\n",
      "4\n",
      "5\n",
      "6\n",
      "7\n",
      "8\n",
      "9\n",
      "10\n",
      "11\n",
      "12\n",
      "13\n",
      "14\n",
      "15\n",
      "16\n",
      "17\n",
      "18\n",
      "19\n",
      "20\n",
      "21\n",
      "22\n"
     ]
    }
   ],
   "source": [
    "number = int(input(\"Введіть ваш порядковий номер в журналі:\"))\n",
    "for i in range(1, 11+number):\n",
    "    print(i)"
   ]
  },
  {
   "cell_type": "code",
   "execution_count": 9,
   "metadata": {},
   "outputs": [
    {
     "name": "stdout",
     "output_type": "stream",
     "text": [
      "22\n",
      "21\n",
      "20\n",
      "19\n",
      "18\n",
      "17\n",
      "16\n",
      "15\n",
      "14\n",
      "13\n",
      "12\n",
      "11\n",
      "10\n",
      "9\n",
      "8\n",
      "7\n",
      "6\n",
      "5\n",
      "4\n",
      "3\n",
      "2\n",
      "1\n"
     ]
    }
   ],
   "source": [
    "number = int(input(\"Введіть ваш порядковий номер в журналі:\"))\n",
    "j = 10 + number\n",
    "while j >= 1:\n",
    "    print(j)\n",
    "    j -= 1"
   ]
  },
  {
   "cell_type": "code",
   "execution_count": 11,
   "metadata": {},
   "outputs": [
    {
     "name": "stdout",
     "output_type": "stream",
     "text": [
      "Простий калькулятор\n",
      "Результат: Невідома операція!\n"
     ]
    }
   ],
   "source": [
    "print(\"Простий калькулятор\")\n",
    "\n",
    "num1 = float(input(\"Введіть перше число: \"))\n",
    "num2 = float(input(\"Введіть друге число: \"))\n",
    "operation = input(\"Оберіть операцію (+, -, *, /): \")\n",
    "\n",
    "if operation == \"+\":\n",
    "    result = num1 + num2\n",
    "elif operation == \"-\":\n",
    "    result = num1 - num2\n",
    "elif operation == \"*\":\n",
    "    result = num1 * num2\n",
    "elif operation == \"/\":\n",
    "    if num2 == 0:\n",
    "        result = \"Помилка: ділення на нуль!\"\n",
    "    else:\n",
    "        result = num1 / num2\n",
    "else:\n",
    "    result = \"Невідома операція!\"\n",
    "\n",
    "print(\"Результат:\", result)"
   ]
  }
 ],
 "metadata": {
  "kernelspec": {
   "display_name": "Python 3",
   "language": "python",
   "name": "python3"
  },
  "language_info": {
   "codemirror_mode": {
    "name": "ipython",
    "version": 3
   },
   "file_extension": ".py",
   "mimetype": "text/x-python",
   "name": "python",
   "nbconvert_exporter": "python",
   "pygments_lexer": "ipython3",
   "version": "3.11.9"
  }
 },
 "nbformat": 4,
 "nbformat_minor": 2
}
