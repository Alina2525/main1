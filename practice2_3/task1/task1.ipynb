{
 "cells": [
  {
   "cell_type": "code",
   "execution_count": 1,
   "metadata": {},
   "outputs": [
    {
     "name": "stdout",
     "output_type": "stream",
     "text": [
      "Збираємо заголовки та дати...\n",
      "Знайдені пости:\n",
      "1. 13 Грудня, 2024 8:10 - Оперативна інформація станом на 08.00 13.12.2024 щодо російського вторгнення\n",
      "2. 12 Грудня, 2024 17:00 - Покровський напрямок: Високі втрати ворога і героїзм наших воїнів\n",
      "3. 12 Грудня, 2024 15:00 - Нагородження воїнів 27-ї реактивної артилерійської бригади в Запоріжжі\n",
      "4. 12 Грудня, 2024 12:10 - Сухопутні війська — це основа. Фундамент. Сила.💪Поки вони на землі, ворог — у землі.Зі святом! Слава Україні!\n",
      "5. 12 Грудня, 2024 10:32 - Відзначення героїв: Нагородження бійців 68-ї бригади\n",
      "6. 12 Грудня, 2024 8:34 - Оперативна інформація станом на 08.00 12.12.2024 щодо російського вторгнення\n",
      "7. 12 Грудня, 2024 8:00 - Привітання Головнокомандувача Збройних Сил України генерала Олександра Сирського з нагоди Дня Сухопутних військ України\n",
      "8. 11 Грудня, 2024 20:53 - Головнокомандувач на Покровському напрямку\n",
      "9. 11 Грудня, 2024 17:10 - Шотландські інструктори готують українських бійців\n",
      "10. 11 Грудня, 2024 10:10 - Сили оборони України уразили нафтобазу російських окупантів\n"
     ]
    }
   ],
   "source": [
    "import requests\n",
    "from bs4 import BeautifulSoup\n",
    "\n",
    "# URL сторінки для парсингу\n",
    "URL = \"https://www.zsu.gov.ua/category/news/page/8/\"\n",
    "\n",
    "# Функція для збору заголовків та дат\n",
    "def scrape_titles_and_dates(url):\n",
    "    try:\n",
    "        # Заголовки для запиту\n",
    "        headers = {\n",
    "            \"User-Agent\": \"Mozilla/5.0 (Windows NT 10.0; Win64; x64) AppleWebKit/537.36 (KHTML, like Gecko) Chrome/91.0.4472.124 Safari/537.36\",\n",
    "            \"Accept-Language\": \"en-US,en;q=0.9\",\n",
    "            \"Referer\": \"https://www.zsu.gov.ua/\"\n",
    "        }\n",
    "        \n",
    "        # Надсилаємо запит\n",
    "        response = requests.get(url, headers=headers)\n",
    "        response.raise_for_status()\n",
    "        \n",
    "        # Парсимо HTML\n",
    "        soup = BeautifulSoup(response.text, 'html.parser')\n",
    "        \n",
    "        # Збираємо всі блоки опису постів\n",
    "        posts = soup.find_all('div', class_='post__description')\n",
    "        \n",
    "        # Збираємо дати та заголовки\n",
    "        data = []\n",
    "        for post in posts:\n",
    "            date = post.find('div', class_='post__date').get_text(strip=True)\n",
    "            title = post.find('div', class_='post__title').get_text(strip=True)\n",
    "            data.append({\"date\": date, \"title\": title})\n",
    "        \n",
    "        return data\n",
    "    except requests.RequestException as e:\n",
    "        print(f\"Помилка запиту: {e}\")\n",
    "        return []\n",
    "    except Exception as e:\n",
    "        print(f\"Помилка парсингу: {e}\")\n",
    "        return []\n",
    "\n",
    "# Основний код\n",
    "if __name__ == \"__main__\":\n",
    "    print(\"Збираємо заголовки та дати...\")\n",
    "    posts_data = scrape_titles_and_dates(URL)\n",
    "    \n",
    "    if posts_data:\n",
    "        print(\"Знайдені пости:\")\n",
    "        for idx, post in enumerate(posts_data, start=1):\n",
    "            print(f\"{idx}. {post['date']} - {post['title']}\")\n",
    "    else:\n",
    "        print(\"Жодних даних не знайдено.\")\n"
   ]
  }
 ],
 "metadata": {
  "kernelspec": {
   "display_name": "Python 3",
   "language": "python",
   "name": "python3"
  },
  "language_info": {
   "codemirror_mode": {
    "name": "ipython",
    "version": 3
   },
   "file_extension": ".py",
   "mimetype": "text/x-python",
   "name": "python",
   "nbconvert_exporter": "python",
   "pygments_lexer": "ipython3",
   "version": "3.11.9"
  }
 },
 "nbformat": 4,
 "nbformat_minor": 2
}
